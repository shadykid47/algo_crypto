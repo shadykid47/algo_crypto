{
 "cells": [
  {
   "cell_type": "code",
   "execution_count": 32,
   "metadata": {},
   "outputs": [],
   "source": [
    "import datetime, time, math"
   ]
  },
  {
   "cell_type": "code",
   "execution_count": 5,
   "metadata": {},
   "outputs": [],
   "source": [
    "eth_wallet = '0x154a22e768fcb0098162D5f9B5A4DB3ce628b03E'"
   ]
  },
  {
   "cell_type": "code",
   "execution_count": 33,
   "metadata": {},
   "outputs": [],
   "source": [
    "Wallet_Address = '0x488011d9f80e6ea47ab79a531464c6118e37bf6e'\n",
    "Account_ = '0x94db19933b524c2624c9216ed3e0fef400876b3bd1756210822a2254fe7f1414'\n",
    "Orderly_API_Key = 'ed25519:ABcMjrBAi8guUxE6cjpGadnHdhUXd4bwwM8SJMx2zsnz'\n",
    "Orderly_API_Secret = 'ed25519:8M1oRWsgwyUVhC881pPSLg6KvtBZZs1qZr4CYMNvutnM'"
   ]
  },
  {
   "cell_type": "markdown",
   "metadata": {},
   "source": [
    "## check if account exists or not"
   ]
  },
  {
   "cell_type": "code",
   "execution_count": 10,
   "metadata": {},
   "outputs": [
    {
     "name": "stdout",
     "output_type": "stream",
     "text": [
      "{\"success\":false,\"code\":-1607,\"message\":\"account does not exist\"}\n"
     ]
    }
   ],
   "source": [
    "import requests\n",
    "\n",
    "url = \"https://testnet-api-evm.orderly.network/v1/get_account\"\n",
    "\n",
    "querystring = {\"address\": Wallet_Address, 'broker_id':'woofi_dex' }\n",
    "\n",
    "response = requests.request(\"GET\", url, params=querystring)\n",
    "\n",
    "print(response.text)"
   ]
  },
  {
   "cell_type": "markdown",
   "metadata": {},
   "source": [
    "## generate keccak hash keys"
   ]
  },
  {
   "cell_type": "code",
   "execution_count": 12,
   "metadata": {},
   "outputs": [
    {
     "name": "stdout",
     "output_type": "stream",
     "text": [
      "36383cc9cfbf1dc87c78c2529ae2fcd4e3fc4e575e154b357ae3a8b2739113cf\n"
     ]
    }
   ],
   "source": [
    "import sha3\n",
    "k = sha3.keccak_256()\n",
    "k.update(b'age')\n",
    "print(k.hexdigest())"
   ]
  },
  {
   "cell_type": "markdown",
   "metadata": {},
   "source": [
    "## get list of brokers"
   ]
  },
  {
   "cell_type": "code",
   "execution_count": 28,
   "metadata": {},
   "outputs": [
    {
     "name": "stdout",
     "output_type": "stream",
     "text": [
      "{\"success\":true,\"data\":{\"rows\":[{\"broker_id\":\"woofi_pro\",\"broker_name\":\"WOOFi Pro\"},{\"broker_id\":\"orderly\",\"broker_name\":\"Orderly\"},{\"broker_id\":\"0xfin\",\"broker_name\":\"0xfin\"},{\"broker_id\":\"busywhale\",\"broker_name\":\"BusyWhale\"},{\"broker_id\":\"logx\",\"broker_name\":\"LogX Aggregator \"},{\"broker_id\":\"emdx_dex\",\"broker_name\":\"EMDX\"},{\"broker_id\":\"bitoro_network\",\"broker_name\":\"Bitoro Network\"},{\"broker_id\":\"quick_perps\",\"broker_name\":\"QuickSwap\"},{\"broker_id\":\"empyreal\",\"broker_name\":\"Empyreal\"}]},\"timestamp\":1710769072151}\n"
     ]
    },
    {
     "data": {
      "text/html": [
       "<div>\n",
       "<style scoped>\n",
       "    .dataframe tbody tr th:only-of-type {\n",
       "        vertical-align: middle;\n",
       "    }\n",
       "\n",
       "    .dataframe tbody tr th {\n",
       "        vertical-align: top;\n",
       "    }\n",
       "\n",
       "    .dataframe thead th {\n",
       "        text-align: right;\n",
       "    }\n",
       "</style>\n",
       "<table border=\"1\" class=\"dataframe\">\n",
       "  <thead>\n",
       "    <tr style=\"text-align: right;\">\n",
       "      <th></th>\n",
       "      <th>broker_id</th>\n",
       "      <th>broker_name</th>\n",
       "    </tr>\n",
       "  </thead>\n",
       "  <tbody>\n",
       "    <tr>\n",
       "      <th>0</th>\n",
       "      <td>woofi_pro</td>\n",
       "      <td>WOOFi Pro</td>\n",
       "    </tr>\n",
       "    <tr>\n",
       "      <th>1</th>\n",
       "      <td>orderly</td>\n",
       "      <td>Orderly</td>\n",
       "    </tr>\n",
       "    <tr>\n",
       "      <th>2</th>\n",
       "      <td>0xfin</td>\n",
       "      <td>0xfin</td>\n",
       "    </tr>\n",
       "    <tr>\n",
       "      <th>3</th>\n",
       "      <td>busywhale</td>\n",
       "      <td>BusyWhale</td>\n",
       "    </tr>\n",
       "    <tr>\n",
       "      <th>4</th>\n",
       "      <td>logx</td>\n",
       "      <td>LogX Aggregator</td>\n",
       "    </tr>\n",
       "    <tr>\n",
       "      <th>5</th>\n",
       "      <td>emdx_dex</td>\n",
       "      <td>EMDX</td>\n",
       "    </tr>\n",
       "    <tr>\n",
       "      <th>6</th>\n",
       "      <td>bitoro_network</td>\n",
       "      <td>Bitoro Network</td>\n",
       "    </tr>\n",
       "    <tr>\n",
       "      <th>7</th>\n",
       "      <td>quick_perps</td>\n",
       "      <td>QuickSwap</td>\n",
       "    </tr>\n",
       "    <tr>\n",
       "      <th>8</th>\n",
       "      <td>empyreal</td>\n",
       "      <td>Empyreal</td>\n",
       "    </tr>\n",
       "  </tbody>\n",
       "</table>\n",
       "</div>"
      ],
      "text/plain": [
       "        broker_id       broker_name\n",
       "0       woofi_pro         WOOFi Pro\n",
       "1         orderly           Orderly\n",
       "2           0xfin             0xfin\n",
       "3       busywhale         BusyWhale\n",
       "4            logx  LogX Aggregator \n",
       "5        emdx_dex              EMDX\n",
       "6  bitoro_network    Bitoro Network\n",
       "7     quick_perps         QuickSwap\n",
       "8        empyreal          Empyreal"
      ]
     },
     "execution_count": 28,
     "metadata": {},
     "output_type": "execute_result"
    }
   ],
   "source": [
    "import requests\n",
    "import pandas as pd\n",
    "\n",
    "url = \"https://api-evm.orderly.org/v1/public/broker/name\"\n",
    "\n",
    "response = requests.request(\"GET\", url)\n",
    "\n",
    "print(response.text)\n",
    "\n",
    "data = response.text\n",
    "pd.DataFrame(response.json()['data']['rows'])"
   ]
  },
  {
   "cell_type": "markdown",
   "metadata": {},
   "source": [
    "## authenticate account"
   ]
  },
  {
   "cell_type": "code",
   "execution_count": 49,
   "metadata": {},
   "outputs": [
    {
     "name": "stdout",
     "output_type": "stream",
     "text": [
      "{'orderly-timestamp': '1710770687548', 'orderly-account-id': '0x94db19933b524c2624c9216ed3e0fef400876b3bd1756210822a2254fe7f1414', 'orderly-key': 'ed25519:ABcMjrBAi8guUxE6cjpGadnHdhUXd4bwwM8SJMx2zsnz', 'orderly-signature': 'RiY9BHcyqGOtNSrflj5pwwVntzWbZHxR1Rj8VfgZ8KSvmjOqmWwBHKW7bmzKvgibQ2zzbYp7TVAlE_GPsTGvCg=='}\n"
     ]
    }
   ],
   "source": [
    "import json\n",
    "import os\n",
    "from base58 import b58decode\n",
    "from requests import Request, Session\n",
    "\n",
    "from cryptography.hazmat.primitives.asymmetric.ed25519 import Ed25519PrivateKey\n",
    "\n",
    "from signer import Signer\n",
    "\n",
    "live_url = 'https://api-evm.orderly.org'\n",
    "\n",
    "\n",
    "\n",
    "base_url = \"https://testnet-api-evm.orderly.org\"\n",
    "\n",
    "orderly_account_id = Account_\n",
    "\n",
    "key = b58decode(Orderly_API_Secret.split(':')[1])\n",
    "orderly_key = Ed25519PrivateKey.from_private_bytes(key)\n",
    "\n",
    "session = Session()\n",
    "signer = Signer(orderly_account_id, orderly_key)\n",
    "\n",
    "req = signer.sign_request(\n",
    "    Request(\n",
    "        \"POST\",\n",
    "        \"%s/v1/order\" % live_url,\n",
    "        json={\n",
    "            \"symbol\": \"PERP_ETH_USDC\",\n",
    "            \"order_type\": \"MARKET\",\n",
    "            \"order_quantity\": 0.01,\n",
    "            \"side\": \"BUY\",\n",
    "        },\n",
    "    )\n",
    ")\n",
    "res = session.send(req)\n",
    "response = json.loads(res.text)\n",
    "\n",
    "auth_data = response"
   ]
  },
  {
   "cell_type": "code",
   "execution_count": 50,
   "metadata": {},
   "outputs": [
    {
     "data": {
      "text/plain": [
       "{'success': True,\n",
       " 'data': {'order_id': 404967936,\n",
       "  'client_order_id': None,\n",
       "  'order_type': 'MARKET',\n",
       "  'order_price': None,\n",
       "  'order_quantity': 0.01,\n",
       "  'order_amount': None},\n",
       " 'timestamp': 1710770687728}"
      ]
     },
     "execution_count": 50,
     "metadata": {},
     "output_type": "execute_result"
    }
   ],
   "source": [
    "auth_data"
   ]
  },
  {
   "cell_type": "markdown",
   "metadata": {},
   "source": [
    "## generate nounce value - valid for 2 mins only"
   ]
  },
  {
   "cell_type": "code",
   "execution_count": 30,
   "metadata": {},
   "outputs": [
    {
     "name": "stdout",
     "output_type": "stream",
     "text": [
      "{\"success\":true,\"data\":{\"registration_nonce\":\"105236611141\"},\"timestamp\":1710769213367}\n"
     ]
    }
   ],
   "source": [
    "import requests\n",
    "\n",
    "url = \"https://api-evm.orderly.org/v1/registration_nonce\"\n",
    "\n",
    "response = requests.request(\"GET\", url)\n",
    "\n",
    "print(response.text)"
   ]
  },
  {
   "cell_type": "code",
   "execution_count": 45,
   "metadata": {},
   "outputs": [
    {
     "ename": "KeyError",
     "evalue": "'orderly-signature'",
     "output_type": "error",
     "traceback": [
      "\u001b[0;31m---------------------------------------------------------------------------\u001b[0m",
      "\u001b[0;31mKeyError\u001b[0m                                  Traceback (most recent call last)",
      "Cell \u001b[0;32mIn[45], line 36\u001b[0m\n\u001b[1;32m     33\u001b[0m broker_id \u001b[38;5;241m=\u001b[39m \u001b[38;5;124m\"\u001b[39m\u001b[38;5;124mwoofi_pro\u001b[39m\u001b[38;5;124m\"\u001b[39m\n\u001b[1;32m     34\u001b[0m chain_id \u001b[38;5;241m=\u001b[39m \u001b[38;5;241m421614\u001b[39m\n\u001b[0;32m---> 36\u001b[0m account: Account \u001b[38;5;241m=\u001b[39m Account\u001b[38;5;241m.\u001b[39mfrom_key(\u001b[43mauth_data\u001b[49m\u001b[43m[\u001b[49m\u001b[38;5;124;43m'\u001b[39;49m\u001b[38;5;124;43morderly-signature\u001b[39;49m\u001b[38;5;124;43m'\u001b[39;49m\u001b[43m]\u001b[49m)\n\u001b[1;32m     38\u001b[0m res \u001b[38;5;241m=\u001b[39m requests\u001b[38;5;241m.\u001b[39mget(\u001b[38;5;124m\"\u001b[39m\u001b[38;5;132;01m%s\u001b[39;00m\u001b[38;5;124m/v1/registration_nonce\u001b[39m\u001b[38;5;124m\"\u001b[39m \u001b[38;5;241m%\u001b[39m base_url)\n\u001b[1;32m     39\u001b[0m response \u001b[38;5;241m=\u001b[39m json\u001b[38;5;241m.\u001b[39mloads(res\u001b[38;5;241m.\u001b[39mtext)\n",
      "\u001b[0;31mKeyError\u001b[0m: 'orderly-signature'"
     ]
    }
   ],
   "source": [
    "from datetime import datetime\n",
    "import json\n",
    "import math\n",
    "import os\n",
    "import requests\n",
    "\n",
    "from eth_account import Account, messages\n",
    "\n",
    "\n",
    "MESSAGE_TYPES = {\n",
    "    \"EIP712Domain\": [\n",
    "        {\"name\": \"name\", \"type\": \"string\"},\n",
    "        {\"name\": \"version\", \"type\": \"string\"},\n",
    "        {\"name\": \"chainId\", \"type\": \"uint256\"},\n",
    "        {\"name\": \"verifyingContract\", \"type\": \"address\"},\n",
    "    ],\n",
    "    \"Registration\": [\n",
    "        {\"name\": \"brokerId\", \"type\": \"string\"},\n",
    "        {\"name\": \"chainId\", \"type\": \"uint256\"},\n",
    "        {\"name\": \"timestamp\", \"type\": \"uint64\"},\n",
    "        {\"name\": \"registrationNonce\", \"type\": \"uint256\"},\n",
    "    ],\n",
    "}\n",
    "\n",
    "OFF_CHAIN_DOMAIN = {\n",
    "    \"name\": \"Orderly\",\n",
    "    \"version\": \"1\",\n",
    "    \"chainId\": 421614,\n",
    "    \"verifyingContract\": \"0xCcCCccccCCCCcCCCCCCcCcCccCcCCCcCcccccccC\",\n",
    "}\n",
    "\n",
    "base_url = live_url # \"https://testnet-api-evm.orderly.org\"\n",
    "broker_id = \"woofi_pro\"\n",
    "chain_id = 421614\n",
    "\n",
    "account: Account = Account.from_key(auth_data['orderly-signature'])\n",
    "\n",
    "res = requests.get(\"%s/v1/registration_nonce\" % base_url)\n",
    "response = json.loads(res.text)\n",
    "registration_nonce = response[\"data\"][\"registration_nonce\"]\n",
    "\n",
    "d = datetime.utcnow()\n",
    "epoch = datetime(1970, 1, 1)\n",
    "timestamp = math.trunc((d - epoch).total_seconds() * 1_000)\n",
    "\n",
    "register_message = {\n",
    "    \"brokerId\": broker_id,\n",
    "    \"chainId\": chain_id,\n",
    "    \"timestamp\": timestamp,\n",
    "    \"registrationNonce\": registration_nonce,\n",
    "}\n",
    "\n",
    "encoded_data = messages.encode_typed_data(\n",
    "    domain_data=OFF_CHAIN_DOMAIN,\n",
    "    message_types={\"Registration\": MESSAGE_TYPES[\"Registration\"]},\n",
    "    message_data=register_message,\n",
    ")\n",
    "signed_message = account.sign_message(encoded_data)\n",
    "\n",
    "res = requests.post(\n",
    "    \"%s/v1/register_account\" % base_url,\n",
    "    headers={\"Content-Type\": \"application/json\"},\n",
    "    json={\n",
    "        \"message\": register_message,\n",
    "        \"signature\": signed_message.signature.hex(),\n",
    "        \"userAddress\": account.address,\n",
    "    },\n",
    ")\n",
    "response = json.loads(res.text)\n",
    "\n",
    "orderly_account_id = response[\"data\"][\"account_id\"]\n",
    "print(\"orderly_account_id:\", orderly_account_id)\n"
   ]
  },
  {
   "cell_type": "code",
   "execution_count": 41,
   "metadata": {},
   "outputs": [
    {
     "data": {
      "text/plain": [
       "'616e74'"
      ]
     },
     "execution_count": 41,
     "metadata": {},
     "output_type": "execute_result"
    }
   ],
   "source": [
    "val = 'ant'.encode('utf-8').hex()\n",
    "# hex(int(val))\n",
    "val"
   ]
  },
  {
   "cell_type": "code",
   "execution_count": null,
   "metadata": {},
   "outputs": [],
   "source": []
  }
 ],
 "metadata": {
  "kernelspec": {
   "display_name": "Python 3",
   "language": "python",
   "name": "python3"
  },
  "language_info": {
   "codemirror_mode": {
    "name": "ipython",
    "version": 3
   },
   "file_extension": ".py",
   "mimetype": "text/x-python",
   "name": "python",
   "nbconvert_exporter": "python",
   "pygments_lexer": "ipython3",
   "version": "3.10.12"
  }
 },
 "nbformat": 4,
 "nbformat_minor": 2
}
